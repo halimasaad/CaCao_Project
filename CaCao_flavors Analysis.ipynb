{
 "cells": [
  {
   "cell_type": "markdown",
   "id": "caaed8d7",
   "metadata": {},
   "source": [
    "# GROUP PROJECT ON EXPLORATORY DATA ANALYSIS AND VISUALIZATIONS (GROUP 1)"
   ]
  },
  {
   "cell_type": "markdown",
   "id": "c12534cb",
   "metadata": {},
   "source": [
    "## DATA SET: flavors_of_cacao.csv"
   ]
  },
  {
   "cell_type": "markdown",
   "id": "68368d88",
   "metadata": {},
   "source": [
    "# Importing the needed libraries"
   ]
  },
  {
   "cell_type": "code",
   "execution_count": 3,
   "id": "e3f589ca",
   "metadata": {},
   "outputs": [],
   "source": [
    "import numpy as np\n",
    "import pandas as pd\n",
    "import matplotlib.pyplot as plt\n",
    "import seaborn as sb\n",
    "from collections import Counter"
   ]
  },
  {
   "cell_type": "markdown",
   "id": "aa17f064",
   "metadata": {},
   "source": [
    "## loading the file into jupyter"
   ]
  },
  {
   "cell_type": "code",
   "execution_count": 4,
   "id": "b669ad7a",
   "metadata": {},
   "outputs": [
    {
     "data": {
      "text/html": [
       "<div>\n",
       "<style scoped>\n",
       "    .dataframe tbody tr th:only-of-type {\n",
       "        vertical-align: middle;\n",
       "    }\n",
       "\n",
       "    .dataframe tbody tr th {\n",
       "        vertical-align: top;\n",
       "    }\n",
       "\n",
       "    .dataframe thead th {\n",
       "        text-align: right;\n",
       "    }\n",
       "</style>\n",
       "<table border=\"1\" class=\"dataframe\">\n",
       "  <thead>\n",
       "    <tr style=\"text-align: right;\">\n",
       "      <th></th>\n",
       "      <th>Company Name</th>\n",
       "      <th>Specific Bean Origin</th>\n",
       "      <th>REF</th>\n",
       "      <th>Review Year</th>\n",
       "      <th>Cocoa Percent</th>\n",
       "      <th>Company Location</th>\n",
       "      <th>Rating</th>\n",
       "      <th>Bean Type</th>\n",
       "      <th>Country</th>\n",
       "    </tr>\n",
       "  </thead>\n",
       "  <tbody>\n",
       "    <tr>\n",
       "      <th>0</th>\n",
       "      <td>A. Morin</td>\n",
       "      <td>Agua Grande</td>\n",
       "      <td>1876</td>\n",
       "      <td>2016</td>\n",
       "      <td>0.63</td>\n",
       "      <td>France</td>\n",
       "      <td>3.75</td>\n",
       "      <td></td>\n",
       "      <td>Sao Tome</td>\n",
       "    </tr>\n",
       "    <tr>\n",
       "      <th>1</th>\n",
       "      <td>A. Morin</td>\n",
       "      <td>Kpime</td>\n",
       "      <td>1676</td>\n",
       "      <td>2015</td>\n",
       "      <td>0.70</td>\n",
       "      <td>France</td>\n",
       "      <td>2.75</td>\n",
       "      <td></td>\n",
       "      <td>Togo</td>\n",
       "    </tr>\n",
       "    <tr>\n",
       "      <th>2</th>\n",
       "      <td>A. Morin</td>\n",
       "      <td>Atsane</td>\n",
       "      <td>1676</td>\n",
       "      <td>2015</td>\n",
       "      <td>0.70</td>\n",
       "      <td>France</td>\n",
       "      <td>3.00</td>\n",
       "      <td></td>\n",
       "      <td>Togo</td>\n",
       "    </tr>\n",
       "    <tr>\n",
       "      <th>3</th>\n",
       "      <td>A. Morin</td>\n",
       "      <td>Akata</td>\n",
       "      <td>1680</td>\n",
       "      <td>2015</td>\n",
       "      <td>0.70</td>\n",
       "      <td>France</td>\n",
       "      <td>3.50</td>\n",
       "      <td></td>\n",
       "      <td>Togo</td>\n",
       "    </tr>\n",
       "    <tr>\n",
       "      <th>4</th>\n",
       "      <td>A. Morin</td>\n",
       "      <td>Quilla</td>\n",
       "      <td>1704</td>\n",
       "      <td>2015</td>\n",
       "      <td>0.70</td>\n",
       "      <td>France</td>\n",
       "      <td>3.50</td>\n",
       "      <td></td>\n",
       "      <td>Peru</td>\n",
       "    </tr>\n",
       "    <tr>\n",
       "      <th>...</th>\n",
       "      <td>...</td>\n",
       "      <td>...</td>\n",
       "      <td>...</td>\n",
       "      <td>...</td>\n",
       "      <td>...</td>\n",
       "      <td>...</td>\n",
       "      <td>...</td>\n",
       "      <td>...</td>\n",
       "      <td>...</td>\n",
       "    </tr>\n",
       "    <tr>\n",
       "      <th>1790</th>\n",
       "      <td>Zotter</td>\n",
       "      <td>Peru</td>\n",
       "      <td>647</td>\n",
       "      <td>2011</td>\n",
       "      <td>0.70</td>\n",
       "      <td>Austria</td>\n",
       "      <td>3.75</td>\n",
       "      <td></td>\n",
       "      <td>Peru</td>\n",
       "    </tr>\n",
       "    <tr>\n",
       "      <th>1791</th>\n",
       "      <td>Zotter</td>\n",
       "      <td>Congo</td>\n",
       "      <td>749</td>\n",
       "      <td>2011</td>\n",
       "      <td>0.65</td>\n",
       "      <td>Austria</td>\n",
       "      <td>3.00</td>\n",
       "      <td>Forastero</td>\n",
       "      <td>Congo</td>\n",
       "    </tr>\n",
       "    <tr>\n",
       "      <th>1792</th>\n",
       "      <td>Zotter</td>\n",
       "      <td>Kerala State</td>\n",
       "      <td>749</td>\n",
       "      <td>2011</td>\n",
       "      <td>0.65</td>\n",
       "      <td>Austria</td>\n",
       "      <td>3.50</td>\n",
       "      <td>Forastero</td>\n",
       "      <td>India</td>\n",
       "    </tr>\n",
       "    <tr>\n",
       "      <th>1793</th>\n",
       "      <td>Zotter</td>\n",
       "      <td>Kerala State</td>\n",
       "      <td>781</td>\n",
       "      <td>2011</td>\n",
       "      <td>0.62</td>\n",
       "      <td>Austria</td>\n",
       "      <td>3.25</td>\n",
       "      <td></td>\n",
       "      <td>India</td>\n",
       "    </tr>\n",
       "    <tr>\n",
       "      <th>1794</th>\n",
       "      <td>Zotter</td>\n",
       "      <td>Brazil, Mitzi Blue</td>\n",
       "      <td>486</td>\n",
       "      <td>2010</td>\n",
       "      <td>0.65</td>\n",
       "      <td>Austria</td>\n",
       "      <td>3.00</td>\n",
       "      <td></td>\n",
       "      <td>Brazil</td>\n",
       "    </tr>\n",
       "  </tbody>\n",
       "</table>\n",
       "<p>1795 rows × 9 columns</p>\n",
       "</div>"
      ],
      "text/plain": [
       "     Company Name Specific Bean Origin   REF  Review Year  Cocoa Percent  \\\n",
       "0        A. Morin          Agua Grande  1876         2016           0.63   \n",
       "1        A. Morin                Kpime  1676         2015           0.70   \n",
       "2        A. Morin               Atsane  1676         2015           0.70   \n",
       "3        A. Morin                Akata  1680         2015           0.70   \n",
       "4        A. Morin               Quilla  1704         2015           0.70   \n",
       "...           ...                  ...   ...          ...            ...   \n",
       "1790       Zotter                 Peru   647         2011           0.70   \n",
       "1791       Zotter                Congo   749         2011           0.65   \n",
       "1792       Zotter         Kerala State   749         2011           0.65   \n",
       "1793       Zotter         Kerala State   781         2011           0.62   \n",
       "1794       Zotter   Brazil, Mitzi Blue   486         2010           0.65   \n",
       "\n",
       "     Company Location  Rating  Bean Type   Country  \n",
       "0              France    3.75             Sao Tome  \n",
       "1              France    2.75                 Togo  \n",
       "2              France    3.00                 Togo  \n",
       "3              France    3.50                 Togo  \n",
       "4              France    3.50                 Peru  \n",
       "...               ...     ...        ...       ...  \n",
       "1790          Austria    3.75                 Peru  \n",
       "1791          Austria    3.00  Forastero     Congo  \n",
       "1792          Austria    3.50  Forastero     India  \n",
       "1793          Austria    3.25                India  \n",
       "1794          Austria    3.00               Brazil  \n",
       "\n",
       "[1795 rows x 9 columns]"
      ]
     },
     "execution_count": 4,
     "metadata": {},
     "output_type": "execute_result"
    }
   ],
   "source": [
    "#reading the csv\n",
    "df = pd.read_csv(r\"C:\\Users\\LENOVO\\Documents\\data bank\\flavors_of_cacao.csv\")\n",
    "\n",
    "# Rename some columns \n",
    "old_colnames = df.columns\n",
    "new_colnames = ['Company Name', 'Specific Bean Origin', 'REF', 'Review Year', 'Cocoa Percent','Company Location', 'Rating', 'Bean Type', 'Country']\n",
    "df = df.rename(columns=dict(zip(old_colnames, new_colnames)))\n",
    "\n",
    "# modifying some of the data types\n",
    "df['Cocoa Percent'] = df['Cocoa Percent'].str.replace('%','').astype(float)/100\n",
    "df"
   ]
  },
  {
   "cell_type": "code",
   "execution_count": 53,
   "id": "5a6b75d6",
   "metadata": {},
   "outputs": [
    {
     "data": {
      "text/html": [
       "<div>\n",
       "<style scoped>\n",
       "    .dataframe tbody tr th:only-of-type {\n",
       "        vertical-align: middle;\n",
       "    }\n",
       "\n",
       "    .dataframe tbody tr th {\n",
       "        vertical-align: top;\n",
       "    }\n",
       "\n",
       "    .dataframe thead th {\n",
       "        text-align: right;\n",
       "    }\n",
       "</style>\n",
       "<table border=\"1\" class=\"dataframe\">\n",
       "  <thead>\n",
       "    <tr style=\"text-align: right;\">\n",
       "      <th></th>\n",
       "      <th>Company Name</th>\n",
       "      <th>Specific Bean Origin</th>\n",
       "      <th>REF</th>\n",
       "      <th>Review Year</th>\n",
       "      <th>Cocoa Percent</th>\n",
       "      <th>Company Location</th>\n",
       "      <th>Rating</th>\n",
       "      <th>Bean Type</th>\n",
       "      <th>Country</th>\n",
       "    </tr>\n",
       "  </thead>\n",
       "  <tbody>\n",
       "    <tr>\n",
       "      <th>0</th>\n",
       "      <td>A. Morin</td>\n",
       "      <td>Agua Grande</td>\n",
       "      <td>1876</td>\n",
       "      <td>2016</td>\n",
       "      <td>0.63</td>\n",
       "      <td>France</td>\n",
       "      <td>3.75</td>\n",
       "      <td></td>\n",
       "      <td>Sao Tome</td>\n",
       "    </tr>\n",
       "    <tr>\n",
       "      <th>1</th>\n",
       "      <td>A. Morin</td>\n",
       "      <td>Kpime</td>\n",
       "      <td>1676</td>\n",
       "      <td>2015</td>\n",
       "      <td>0.70</td>\n",
       "      <td>France</td>\n",
       "      <td>2.75</td>\n",
       "      <td></td>\n",
       "      <td>Togo</td>\n",
       "    </tr>\n",
       "    <tr>\n",
       "      <th>2</th>\n",
       "      <td>A. Morin</td>\n",
       "      <td>Atsane</td>\n",
       "      <td>1676</td>\n",
       "      <td>2015</td>\n",
       "      <td>0.70</td>\n",
       "      <td>France</td>\n",
       "      <td>3.00</td>\n",
       "      <td></td>\n",
       "      <td>Togo</td>\n",
       "    </tr>\n",
       "    <tr>\n",
       "      <th>3</th>\n",
       "      <td>A. Morin</td>\n",
       "      <td>Akata</td>\n",
       "      <td>1680</td>\n",
       "      <td>2015</td>\n",
       "      <td>0.70</td>\n",
       "      <td>France</td>\n",
       "      <td>3.50</td>\n",
       "      <td></td>\n",
       "      <td>Togo</td>\n",
       "    </tr>\n",
       "    <tr>\n",
       "      <th>4</th>\n",
       "      <td>A. Morin</td>\n",
       "      <td>Quilla</td>\n",
       "      <td>1704</td>\n",
       "      <td>2015</td>\n",
       "      <td>0.70</td>\n",
       "      <td>France</td>\n",
       "      <td>3.50</td>\n",
       "      <td></td>\n",
       "      <td>Peru</td>\n",
       "    </tr>\n",
       "  </tbody>\n",
       "</table>\n",
       "</div>"
      ],
      "text/plain": [
       "  Company Name Specific Bean Origin   REF  Review Year  Cocoa Percent  \\\n",
       "0     A. Morin          Agua Grande  1876         2016           0.63   \n",
       "1     A. Morin                Kpime  1676         2015           0.70   \n",
       "2     A. Morin               Atsane  1676         2015           0.70   \n",
       "3     A. Morin                Akata  1680         2015           0.70   \n",
       "4     A. Morin               Quilla  1704         2015           0.70   \n",
       "\n",
       "  Company Location  Rating Bean Type   Country  \n",
       "0           France    3.75            Sao Tome  \n",
       "1           France    2.75                Togo  \n",
       "2           France    3.00                Togo  \n",
       "3           France    3.50                Togo  \n",
       "4           France    3.50                Peru  "
      ]
     },
     "execution_count": 53,
     "metadata": {},
     "output_type": "execute_result"
    }
   ],
   "source": [
    "#reading the first 5 rows in the data set\n",
    "df.head()"
   ]
  },
  {
   "cell_type": "code",
   "execution_count": 54,
   "id": "1a94a17a",
   "metadata": {},
   "outputs": [
    {
     "data": {
      "text/html": [
       "<div>\n",
       "<style scoped>\n",
       "    .dataframe tbody tr th:only-of-type {\n",
       "        vertical-align: middle;\n",
       "    }\n",
       "\n",
       "    .dataframe tbody tr th {\n",
       "        vertical-align: top;\n",
       "    }\n",
       "\n",
       "    .dataframe thead th {\n",
       "        text-align: right;\n",
       "    }\n",
       "</style>\n",
       "<table border=\"1\" class=\"dataframe\">\n",
       "  <thead>\n",
       "    <tr style=\"text-align: right;\">\n",
       "      <th></th>\n",
       "      <th>Company Name</th>\n",
       "      <th>Specific Bean Origin</th>\n",
       "      <th>REF</th>\n",
       "      <th>Review Year</th>\n",
       "      <th>Cocoa Percent</th>\n",
       "      <th>Company Location</th>\n",
       "      <th>Rating</th>\n",
       "      <th>Bean Type</th>\n",
       "      <th>Country</th>\n",
       "    </tr>\n",
       "  </thead>\n",
       "  <tbody>\n",
       "    <tr>\n",
       "      <th>1790</th>\n",
       "      <td>Zotter</td>\n",
       "      <td>Peru</td>\n",
       "      <td>647</td>\n",
       "      <td>2011</td>\n",
       "      <td>0.70</td>\n",
       "      <td>Austria</td>\n",
       "      <td>3.75</td>\n",
       "      <td></td>\n",
       "      <td>Peru</td>\n",
       "    </tr>\n",
       "    <tr>\n",
       "      <th>1791</th>\n",
       "      <td>Zotter</td>\n",
       "      <td>Congo</td>\n",
       "      <td>749</td>\n",
       "      <td>2011</td>\n",
       "      <td>0.65</td>\n",
       "      <td>Austria</td>\n",
       "      <td>3.00</td>\n",
       "      <td>Forastero</td>\n",
       "      <td>Congo</td>\n",
       "    </tr>\n",
       "    <tr>\n",
       "      <th>1792</th>\n",
       "      <td>Zotter</td>\n",
       "      <td>Kerala State</td>\n",
       "      <td>749</td>\n",
       "      <td>2011</td>\n",
       "      <td>0.65</td>\n",
       "      <td>Austria</td>\n",
       "      <td>3.50</td>\n",
       "      <td>Forastero</td>\n",
       "      <td>India</td>\n",
       "    </tr>\n",
       "    <tr>\n",
       "      <th>1793</th>\n",
       "      <td>Zotter</td>\n",
       "      <td>Kerala State</td>\n",
       "      <td>781</td>\n",
       "      <td>2011</td>\n",
       "      <td>0.62</td>\n",
       "      <td>Austria</td>\n",
       "      <td>3.25</td>\n",
       "      <td></td>\n",
       "      <td>India</td>\n",
       "    </tr>\n",
       "    <tr>\n",
       "      <th>1794</th>\n",
       "      <td>Zotter</td>\n",
       "      <td>Brazil, Mitzi Blue</td>\n",
       "      <td>486</td>\n",
       "      <td>2010</td>\n",
       "      <td>0.65</td>\n",
       "      <td>Austria</td>\n",
       "      <td>3.00</td>\n",
       "      <td></td>\n",
       "      <td>Brazil</td>\n",
       "    </tr>\n",
       "  </tbody>\n",
       "</table>\n",
       "</div>"
      ],
      "text/plain": [
       "     Company Name Specific Bean Origin  REF  Review Year  Cocoa Percent  \\\n",
       "1790       Zotter                 Peru  647         2011           0.70   \n",
       "1791       Zotter                Congo  749         2011           0.65   \n",
       "1792       Zotter         Kerala State  749         2011           0.65   \n",
       "1793       Zotter         Kerala State  781         2011           0.62   \n",
       "1794       Zotter   Brazil, Mitzi Blue  486         2010           0.65   \n",
       "\n",
       "     Company Location  Rating  Bean Type Country  \n",
       "1790          Austria    3.75               Peru  \n",
       "1791          Austria    3.00  Forastero   Congo  \n",
       "1792          Austria    3.50  Forastero   India  \n",
       "1793          Austria    3.25              India  \n",
       "1794          Austria    3.00             Brazil  "
      ]
     },
     "execution_count": 54,
     "metadata": {},
     "output_type": "execute_result"
    }
   ],
   "source": [
    "#reading the last 5 rows of the data set\n",
    "df.tail()"
   ]
  },
  {
   "cell_type": "code",
   "execution_count": 55,
   "id": "f3128bf2",
   "metadata": {},
   "outputs": [
    {
     "data": {
      "text/plain": [
       "(1795, 9)"
      ]
     },
     "execution_count": 55,
     "metadata": {},
     "output_type": "execute_result"
    }
   ],
   "source": [
    "# looking at the number of rows and columns\n",
    "df.shape"
   ]
  },
  {
   "cell_type": "code",
   "execution_count": 56,
   "id": "d7343782",
   "metadata": {},
   "outputs": [
    {
     "data": {
      "text/html": [
       "<div>\n",
       "<style scoped>\n",
       "    .dataframe tbody tr th:only-of-type {\n",
       "        vertical-align: middle;\n",
       "    }\n",
       "\n",
       "    .dataframe tbody tr th {\n",
       "        vertical-align: top;\n",
       "    }\n",
       "\n",
       "    .dataframe thead th {\n",
       "        text-align: right;\n",
       "    }\n",
       "</style>\n",
       "<table border=\"1\" class=\"dataframe\">\n",
       "  <thead>\n",
       "    <tr style=\"text-align: right;\">\n",
       "      <th></th>\n",
       "      <th>REF</th>\n",
       "      <th>Review Year</th>\n",
       "      <th>Cocoa Percent</th>\n",
       "      <th>Rating</th>\n",
       "    </tr>\n",
       "  </thead>\n",
       "  <tbody>\n",
       "    <tr>\n",
       "      <th>count</th>\n",
       "      <td>1795.000000</td>\n",
       "      <td>1795.000000</td>\n",
       "      <td>1795.000000</td>\n",
       "      <td>1795.000000</td>\n",
       "    </tr>\n",
       "    <tr>\n",
       "      <th>mean</th>\n",
       "      <td>1035.904735</td>\n",
       "      <td>2012.325348</td>\n",
       "      <td>0.716983</td>\n",
       "      <td>3.185933</td>\n",
       "    </tr>\n",
       "    <tr>\n",
       "      <th>std</th>\n",
       "      <td>552.886365</td>\n",
       "      <td>2.927210</td>\n",
       "      <td>0.063231</td>\n",
       "      <td>0.478062</td>\n",
       "    </tr>\n",
       "    <tr>\n",
       "      <th>min</th>\n",
       "      <td>5.000000</td>\n",
       "      <td>2006.000000</td>\n",
       "      <td>0.420000</td>\n",
       "      <td>1.000000</td>\n",
       "    </tr>\n",
       "    <tr>\n",
       "      <th>25%</th>\n",
       "      <td>576.000000</td>\n",
       "      <td>2010.000000</td>\n",
       "      <td>0.700000</td>\n",
       "      <td>2.875000</td>\n",
       "    </tr>\n",
       "    <tr>\n",
       "      <th>50%</th>\n",
       "      <td>1069.000000</td>\n",
       "      <td>2013.000000</td>\n",
       "      <td>0.700000</td>\n",
       "      <td>3.250000</td>\n",
       "    </tr>\n",
       "    <tr>\n",
       "      <th>75%</th>\n",
       "      <td>1502.000000</td>\n",
       "      <td>2015.000000</td>\n",
       "      <td>0.750000</td>\n",
       "      <td>3.500000</td>\n",
       "    </tr>\n",
       "    <tr>\n",
       "      <th>max</th>\n",
       "      <td>1952.000000</td>\n",
       "      <td>2017.000000</td>\n",
       "      <td>1.000000</td>\n",
       "      <td>5.000000</td>\n",
       "    </tr>\n",
       "  </tbody>\n",
       "</table>\n",
       "</div>"
      ],
      "text/plain": [
       "               REF  Review Year  Cocoa Percent       Rating\n",
       "count  1795.000000  1795.000000    1795.000000  1795.000000\n",
       "mean   1035.904735  2012.325348       0.716983     3.185933\n",
       "std     552.886365     2.927210       0.063231     0.478062\n",
       "min       5.000000  2006.000000       0.420000     1.000000\n",
       "25%     576.000000  2010.000000       0.700000     2.875000\n",
       "50%    1069.000000  2013.000000       0.700000     3.250000\n",
       "75%    1502.000000  2015.000000       0.750000     3.500000\n",
       "max    1952.000000  2017.000000       1.000000     5.000000"
      ]
     },
     "execution_count": 56,
     "metadata": {},
     "output_type": "execute_result"
    }
   ],
   "source": [
    "#Describing the data\n",
    "df.describe()"
   ]
  },
  {
   "cell_type": "code",
   "execution_count": 57,
   "id": "8b9a2a69",
   "metadata": {},
   "outputs": [
    {
     "data": {
      "text/plain": [
       "count    1795.000000\n",
       "mean        3.185933\n",
       "std         0.478062\n",
       "min         1.000000\n",
       "25%         2.875000\n",
       "50%         3.250000\n",
       "75%         3.500000\n",
       "max         5.000000\n",
       "Name: Rating, dtype: float64"
      ]
     },
     "execution_count": 57,
     "metadata": {},
     "output_type": "execute_result"
    }
   ],
   "source": [
    "# Describing the dataset based on only rating\n",
    "df.describe().Rating"
   ]
  },
  {
   "cell_type": "code",
   "execution_count": 58,
   "id": "c9138d0a",
   "metadata": {},
   "outputs": [
    {
     "data": {
      "text/html": [
       "<div>\n",
       "<style scoped>\n",
       "    .dataframe tbody tr th:only-of-type {\n",
       "        vertical-align: middle;\n",
       "    }\n",
       "\n",
       "    .dataframe tbody tr th {\n",
       "        vertical-align: top;\n",
       "    }\n",
       "\n",
       "    .dataframe thead th {\n",
       "        text-align: right;\n",
       "    }\n",
       "</style>\n",
       "<table border=\"1\" class=\"dataframe\">\n",
       "  <thead>\n",
       "    <tr style=\"text-align: right;\">\n",
       "      <th></th>\n",
       "      <th>Rating</th>\n",
       "      <th>Cocoa Percent</th>\n",
       "    </tr>\n",
       "  </thead>\n",
       "  <tbody>\n",
       "    <tr>\n",
       "      <th>Rating</th>\n",
       "      <td>1.00000</td>\n",
       "      <td>-0.16482</td>\n",
       "    </tr>\n",
       "    <tr>\n",
       "      <th>Cocoa Percent</th>\n",
       "      <td>-0.16482</td>\n",
       "      <td>1.00000</td>\n",
       "    </tr>\n",
       "  </tbody>\n",
       "</table>\n",
       "</div>"
      ],
      "text/plain": [
       "                Rating  Cocoa Percent\n",
       "Rating         1.00000       -0.16482\n",
       "Cocoa Percent -0.16482        1.00000"
      ]
     },
     "execution_count": 58,
     "metadata": {},
     "output_type": "execute_result"
    }
   ],
   "source": [
    "# relationship between Percentage of cocoa and rating\n",
    "corr = df[['Rating', 'Cocoa Percent']].corr()\n",
    "corr"
   ]
  },
  {
   "cell_type": "code",
   "execution_count": 60,
   "id": "06143917",
   "metadata": {},
   "outputs": [
    {
     "data": {
      "text/plain": [
       "2015    285\n",
       "2014    247\n",
       "2016    219\n",
       "2012    195\n",
       "2013    184\n",
       "2011    165\n",
       "2009    123\n",
       "2010    111\n",
       "2008     93\n",
       "2007     77\n",
       "2006     72\n",
       "2017     24\n",
       "Name: Review Year, dtype: int64"
      ]
     },
     "execution_count": 60,
     "metadata": {},
     "output_type": "execute_result"
    }
   ],
   "source": [
    "# Number of Reviews per year\n",
    "review_yr = df['Review Year'].value_counts()\n",
    "review_yr"
   ]
  },
  {
   "cell_type": "code",
   "execution_count": 62,
   "id": "35c0cc42",
   "metadata": {},
   "outputs": [
    {
     "data": {
      "text/plain": [
       "Venezuela             214\n",
       "Ecuador               193\n",
       "Peru                  165\n",
       "Madagascar            145\n",
       "Dominican Republic    141\n",
       "                       73\n",
       "Nicaragua              60\n",
       "Brazil                 58\n",
       "Bolivia                57\n",
       "Belize                 49\n",
       "Name: Country, dtype: int64"
      ]
     },
     "execution_count": 62,
     "metadata": {},
     "output_type": "execute_result"
    }
   ],
   "source": [
    "# top ten cocoa producing countries\n",
    "df['Country'].value_counts().head(10)"
   ]
  },
  {
   "cell_type": "code",
   "execution_count": 71,
   "id": "3f287da8",
   "metadata": {},
   "outputs": [
    {
     "data": {
      "text/plain": [
       "Soma                          47\n",
       "Bonnat                        27\n",
       "Fresco                        26\n",
       "Pralus                        25\n",
       "A. Morin                      23\n",
       "Arete                         22\n",
       "Guittard                      22\n",
       "Domori                        22\n",
       "Valrhona                      21\n",
       "Hotel Chocolat (Coppeneur)    19\n",
       "Name: Company Name, dtype: int64"
      ]
     },
     "execution_count": 71,
     "metadata": {},
     "output_type": "execute_result"
    }
   ],
   "source": [
    "# top ten chocolate producing companies\n",
    "df['Company Name'].value_counts().head(10)"
   ]
  },
  {
   "cell_type": "code",
   "execution_count": 69,
   "id": "81cbd01d",
   "metadata": {},
   "outputs": [
    {
     "data": {
      "text/plain": [
       "Soma                 47\n",
       "Bonnat               27\n",
       "Fresco               26\n",
       "Pralus               25\n",
       "A. Morin             23\n",
       "                     ..\n",
       "Chocablog             1\n",
       "Marigold's Finest     1\n",
       "Chloe Chocolat        1\n",
       "Chequessett           1\n",
       "Ki' Xocolatl          1\n",
       "Name: Company Name, Length: 416, dtype: int64"
      ]
     },
     "execution_count": 69,
     "metadata": {},
     "output_type": "execute_result"
    }
   ],
   "source": [
    "#number of chocolates produced by each company\n",
    "company = df['Company Name'].value_counts()\n",
    "company"
   ]
  },
  {
   "cell_type": "code",
   "execution_count": 66,
   "id": "3b5b95e5",
   "metadata": {},
   "outputs": [
    {
     "data": {
      "text/plain": [
       "Company Name                Company Location\n",
       "Soma                        Canada              47\n",
       "Bonnat                      France              27\n",
       "Fresco                      U.S.A.              26\n",
       "Pralus                      France              25\n",
       "A. Morin                    France              23\n",
       "Domori                      Italy               22\n",
       "Guittard                    U.S.A.              22\n",
       "Arete                       U.S.A.              22\n",
       "Valrhona                    France              21\n",
       "Hotel Chocolat (Coppeneur)  U.K.                19\n",
       "dtype: int64"
      ]
     },
     "execution_count": 66,
     "metadata": {},
     "output_type": "execute_result"
    }
   ],
   "source": [
    "# top ten chocolate producing companies and countries they are located\n",
    "df[['Company Name', 'Company Location']].value_counts().head(10)"
   ]
  },
  {
   "cell_type": "code",
   "execution_count": 139,
   "id": "2ceb0046",
   "metadata": {},
   "outputs": [
    {
     "data": {
      "text/plain": [
       "U.S.A.         764\n",
       "France         156\n",
       "Canada         125\n",
       "U.K.            96\n",
       "Italy           63\n",
       "Ecuador         54\n",
       "Australia       49\n",
       "Belgium         40\n",
       "Switzerland     38\n",
       "Germany         35\n",
       "Name: Company Location, dtype: int64"
      ]
     },
     "execution_count": 139,
     "metadata": {},
     "output_type": "execute_result"
    }
   ],
   "source": [
    "# top ten chocolate producing countries\n",
    "comp_loc = df['Company Location'].value_counts().head(10)\n",
    "comp_loc"
   ]
  },
  {
   "cell_type": "code",
   "execution_count": 80,
   "id": "e754aa4d",
   "metadata": {},
   "outputs": [
    {
     "data": {
      "text/plain": [
       "3.50    392\n",
       "3.00    341\n",
       "3.25    303\n",
       "2.75    259\n",
       "3.75    210\n",
       "2.50    127\n",
       "4.00     98\n",
       "2.00     32\n",
       "2.25     14\n",
       "1.50     10\n",
       "1.00      4\n",
       "1.75      3\n",
       "5.00      2\n",
       "Name: Rating, dtype: int64"
      ]
     },
     "execution_count": 80,
     "metadata": {},
     "output_type": "execute_result"
    }
   ],
   "source": [
    "# Number of chocolates per rating\n",
    "\n",
    "df['Rating'].value_counts(ascending=False)"
   ]
  },
  {
   "cell_type": "code",
   "execution_count": 150,
   "id": "d58419a2",
   "metadata": {},
   "outputs": [
    {
     "data": {
      "text/plain": [
       "Country\n",
       "Ven, Bolivia, D.R.              4.000000\n",
       "Dom. Rep., Madagascar           4.000000\n",
       "Guat., D.R., Peru, Mad., PNG    4.000000\n",
       "Venezuela, Java                 4.000000\n",
       "Gre., PNG, Haw., Haiti, Mad     4.000000\n",
       "                                  ...   \n",
       "West Africa                     2.583333\n",
       "Peru, Madagascar                2.500000\n",
       "Venezuela, Trinidad             2.500000\n",
       "Puerto Rico                     2.500000\n",
       "Ghana & Madagascar              2.000000\n",
       "Name: Rating, Length: 100, dtype: float64"
      ]
     },
     "execution_count": 150,
     "metadata": {},
     "output_type": "execute_result"
    }
   ],
   "source": [
    "# How the variours cocoa producing countries faired in the rating\n",
    "cocoa_origin_rating = df.groupby(['Country'])['Rating'].mean().sort_values(ascending=False)\n",
    "cocoa_origin_rating"
   ]
  },
  {
   "cell_type": "code",
   "execution_count": 119,
   "id": "4c426bac",
   "metadata": {},
   "outputs": [
    {
     "data": {
      "text/plain": [
       "Company Location\n",
       "Chile                3.750000\n",
       "Amsterdam            3.500000\n",
       "Netherlands          3.500000\n",
       "Philippines          3.500000\n",
       "Iceland              3.416667\n",
       "Vietnam              3.409091\n",
       "Brazil               3.397059\n",
       "Poland               3.375000\n",
       "Australia            3.357143\n",
       "Guatemala            3.350000\n",
       "Switzerland          3.342105\n",
       "Singapore            3.333333\n",
       "Italy                3.325397\n",
       "Scotland             3.325000\n",
       "Canada               3.324000\n",
       "Argentina            3.305556\n",
       "Denmark              3.283333\n",
       "Spain                3.270000\n",
       "France               3.251603\n",
       "Suriname             3.250000\n",
       "Israel               3.250000\n",
       "Finland              3.250000\n",
       "Fiji                 3.250000\n",
       "Bolivia              3.250000\n",
       "Russia               3.250000\n",
       "Austria              3.240385\n",
       "Honduras             3.208333\n",
       "Hungary              3.204545\n",
       "South Korea          3.200000\n",
       "Domincan Republic    3.200000\n",
       "New Zealand          3.191176\n",
       "Germany              3.178571\n",
       "Venezuela            3.175000\n",
       "Colombia             3.173913\n",
       "Lithuania            3.166667\n",
       "U.S.A.               3.154123\n",
       "Madagascar           3.147059\n",
       "Costa Rica           3.138889\n",
       "Belgium              3.093750\n",
       "Japan                3.088235\n",
       "U.K.                 3.054688\n",
       "Sweden               3.050000\n",
       "Ecuador              3.009259\n",
       "Eucador              3.000000\n",
       "Nicaragua            3.000000\n",
       "St. Lucia            3.000000\n",
       "Sao Tome             2.937500\n",
       "Peru                 2.897059\n",
       "Grenada              2.833333\n",
       "Ireland              2.812500\n",
       "Czech Republic       2.750000\n",
       "Ghana                2.750000\n",
       "Wales                2.750000\n",
       "Martinique           2.750000\n",
       "Niacragua            2.750000\n",
       "Portugal             2.750000\n",
       "Mexico               2.687500\n",
       "South Africa         2.666667\n",
       "Puerto Rico          2.625000\n",
       "India                2.500000\n",
       "Name: Rating, dtype: float64"
      ]
     },
     "execution_count": 119,
     "metadata": {},
     "output_type": "execute_result"
    }
   ],
   "source": [
    "# How the variours Chocolate producing countries faired in the rating\n",
    "comp_loc_rating = df.groupby(['Company Location'])['Rating'].mean().sort_values(ascending=False)\n",
    "comp_loc_rating"
   ]
  },
  {
   "cell_type": "markdown",
   "id": "1fb7390c",
   "metadata": {},
   "source": [
    "# Visualizations"
   ]
  },
  {
   "cell_type": "code",
   "execution_count": 5,
   "id": "7137c6ee",
   "metadata": {},
   "outputs": [
    {
     "name": "stderr",
     "output_type": "stream",
     "text": [
      "C:\\Users\\LENOVO\\anaconda\\lib\\site-packages\\seaborn\\distributions.py:2619: FutureWarning: `distplot` is a deprecated function and will be removed in a future version. Please adapt your code to use either `displot` (a figure-level function with similar flexibility) or `histplot` (an axes-level function for histograms).\n",
      "  warnings.warn(msg, FutureWarning)\n"
     ]
    },
    {
     "data": {
      "image/png": "[encoded data removed]",
      "text/plain": [
       "<Figure size 576x360 with 1 Axes>"
      ]
     },
     "metadata": {
      "needs_background": "light"
     },
     "output_type": "display_data"
    }
   ],
   "source": [
    "## Looking at distribution of rating\n",
    "\n",
    "fig, ax = plt.subplots(figsize=[8,5])\n",
    "sb.distplot(df['Rating'], ax=ax)\n",
    "\n",
    "#giving a title\n",
    "ax.set_title('Distribution of Rating')\n",
    "\n",
    "plt.show()"
   ]
  },
  {
   "cell_type": "markdown",
   "id": "9be1744d",
   "metadata": {},
   "source": [
    "## Bar Graph"
   ]
  },
  {
   "cell_type": "code",
   "execution_count": 6,
   "id": "c3fa4650",
   "metadata": {},
   "outputs": [
    {
     "data": {
      "text/plain": [
       "{2015: 285,\n",
       " 2014: 247,\n",
       " 2016: 219,\n",
       " 2012: 195,\n",
       " 2013: 184,\n",
       " 2011: 165,\n",
       " 2009: 123,\n",
       " 2010: 111,\n",
       " 2008: 93,\n",
       " 2007: 77}"
      ]
     },
     "execution_count": 6,
     "metadata": {},
     "output_type": "execute_result"
    }
   ],
   "source": [
    "# Bar graph of number of reviews per year\n",
    "#creating a dictionary to hold the reviews per year\n",
    "\n",
    "review_yr_dict = dict(Counter(df['Review Year']).most_common(10))\n",
    "review_yr_dict"
   ]
  },
  {
   "cell_type": "code",
   "execution_count": 162,
   "id": "2cd0e593",
   "metadata": {},
   "outputs": [
    {
     "data": {
      "image/png": "[encoded data removed]",
      "text/plain": [
       "<Figure size 576x432 with 1 Axes>"
      ]
     },
     "metadata": {
      "needs_background": "light"
     },
     "output_type": "display_data"
    }
   ],
   "source": [
    "# Number of reviews per year\n",
    "\n",
    "plt.figure(figsize=(8,6))\n",
    "\n",
    "plt.bar(review_yr_dict.keys(), review_yr_dict.values(), color='blue')\n",
    "\n",
    "\n",
    "#labeling the axis\n",
    "plt.xlabel('Review Year')\n",
    "plt.ylabel('Frequency')\n",
    "\n",
    "#giving title\n",
    "plt.title('Bar Plot of Reviews per Year')\n",
    "\n",
    "plt.xticks(rotation=45)\n",
    "plt.show()"
   ]
  },
  {
   "cell_type": "code",
   "execution_count": 142,
   "id": "022508c6",
   "metadata": {},
   "outputs": [
    {
     "data": {
      "text/plain": [
       "{'U.S.A.': 764,\n",
       " 'France': 156,\n",
       " 'Canada': 125,\n",
       " 'U.K.': 96,\n",
       " 'Italy': 63,\n",
       " 'Ecuador': 54,\n",
       " 'Australia': 49,\n",
       " 'Belgium': 40,\n",
       " 'Switzerland': 38,\n",
       " 'Germany': 35}"
      ]
     },
     "execution_count": 142,
     "metadata": {},
     "output_type": "execute_result"
    }
   ],
   "source": [
    "#company locations dictionary\n",
    "\n",
    "com_loc_dict = dict(Counter(df['Company Location']).most_common(10))\n",
    "com_loc_dict"
   ]
  },
  {
   "cell_type": "code",
   "execution_count": 183,
   "id": "30173104",
   "metadata": {},
   "outputs": [
    {
     "data": {
      "image/png": "[encoded data removed]",
      "text/plain": [
       "<Figure size 576x360 with 1 Axes>"
      ]
     },
     "metadata": {
      "needs_background": "light"
     },
     "output_type": "display_data"
    }
   ],
   "source": [
    "# Bar graph to show top ten chocolate producing countries\n",
    "plt.figure(figsize=(8,5))\n",
    "\n",
    "plt.bar(com_loc_dict.keys(), com_loc_dict.values(), color='green')\n",
    "\n",
    "\n",
    "#labeling the axis\n",
    "plt.xlabel('Company Location')\n",
    "plt.ylabel('Number of Chocolates')\n",
    "\n",
    "#giving title\n",
    "plt.title('Bar Graph of Top ten Chocolate Producing Countries')\n",
    "\n",
    "\n",
    "plt.xticks(rotation=45)\n",
    "plt.show()"
   ]
  },
  {
   "cell_type": "markdown",
   "id": "64248a5b",
   "metadata": {},
   "source": [
    "### Pie Chart for Cocoa top ten cocoa producing counties"
   ]
  },
  {
   "cell_type": "code",
   "execution_count": 8,
   "id": "bec2f203",
   "metadata": {},
   "outputs": [
    {
     "data": {
      "text/plain": [
       "{'Venezuela': 214,\n",
       " 'Ecuador': 193,\n",
       " 'Peru': 165,\n",
       " 'Madagascar': 145,\n",
       " 'Dominican Republic': 141,\n",
       " '\\xa0': 73,\n",
       " 'Nicaragua': 60,\n",
       " 'Brazil': 58,\n",
       " 'Bolivia': 57,\n",
       " 'Belize': 49}"
      ]
     },
     "execution_count": 8,
     "metadata": {},
     "output_type": "execute_result"
    }
   ],
   "source": [
    "#cocoa producing countries dictionary\n",
    "# creating a dictionary containing the top ten cocoa producing countries\n",
    "country_dict = dict(Counter(df['Country']).most_common(10))\n",
    "country_dict"
   ]
  },
  {
   "cell_type": "code",
   "execution_count": 9,
   "id": "f2af6659",
   "metadata": {},
   "outputs": [
    {
     "data": {
      "image/png": "[encoded data removed]",
      "text/plain": [
       "<Figure size 432x432 with 1 Axes>"
      ]
     },
     "metadata": {},
     "output_type": "display_data"
    }
   ],
   "source": [
    "#pie chart for top ten cocoa producing countries\n",
    "#dimension of the chart\n",
    "plt.figure(figsize=(6,6))\n",
    "\n",
    "plt.pie(country_dict.values(), labels=country_dict.keys(), autopct='%1.2f%%')\n",
    "plt.axis('equal')\n",
    "\n",
    "#title of the chart\n",
    "plt.title('Top Ten Cocoa Producing Countries in the World')\n",
    "\n",
    "plt.show()"
   ]
  },
  {
   "cell_type": "code",
   "execution_count": 10,
   "id": "3be15760",
   "metadata": {},
   "outputs": [
    {
     "data": {
      "text/plain": [
       "Text(0.5, 1.0, 'Goods Flow from Origin to Company location')"
      ]
     },
     "execution_count": 10,
     "metadata": {},
     "output_type": "execute_result"
    },
    {
     "data": {
      "image/png": "[encoded data removed]",
      "text/plain": [
       "<Figure size 576x360 with 2 Axes>"
      ]
     },
     "metadata": {
      "needs_background": "light"
     },
     "output_type": "display_data"
    }
   ],
   "source": [
    "# looking at the flow of cocoa from producing counties to processing countries\n",
    "flow = pd.crosstab(df['Company Location'],df['Country'])\n",
    "flow['tot'] = flow.sum(axis=1)\n",
    "flow = flow.sort_values('tot', ascending=False)\n",
    "flow = flow.drop('tot', axis=1)\n",
    "\n",
    "fig, ax = plt.subplots(figsize=[8,5])\n",
    "sb.heatmap(flow.head(10), cmap='Reds', linewidths=.5)\n",
    "ax.set_title('Goods Flow from Origin to Company location')"
   ]
  },
  {
   "cell_type": "markdown",
   "id": "5aa6d7fa",
   "metadata": {},
   "source": [
    "### Generating a heatmap to show the relationship between Rating, Review Year and Cocoa Percent"
   ]
  },
  {
   "cell_type": "code",
   "execution_count": 117,
   "id": "eee04b77",
   "metadata": {},
   "outputs": [
    {
     "data": {
      "text/html": [
       "<div>\n",
       "<style scoped>\n",
       "    .dataframe tbody tr th:only-of-type {\n",
       "        vertical-align: middle;\n",
       "    }\n",
       "\n",
       "    .dataframe tbody tr th {\n",
       "        vertical-align: top;\n",
       "    }\n",
       "\n",
       "    .dataframe thead th {\n",
       "        text-align: right;\n",
       "    }\n",
       "</style>\n",
       "<table border=\"1\" class=\"dataframe\">\n",
       "  <thead>\n",
       "    <tr style=\"text-align: right;\">\n",
       "      <th></th>\n",
       "      <th>Rating</th>\n",
       "      <th>Review Year</th>\n",
       "      <th>Cocoa Percent</th>\n",
       "    </tr>\n",
       "  </thead>\n",
       "  <tbody>\n",
       "    <tr>\n",
       "      <th>Rating</th>\n",
       "      <td>1.000000</td>\n",
       "      <td>0.099846</td>\n",
       "      <td>-0.164820</td>\n",
       "    </tr>\n",
       "    <tr>\n",
       "      <th>Review Year</th>\n",
       "      <td>0.099846</td>\n",
       "      <td>1.000000</td>\n",
       "      <td>0.038177</td>\n",
       "    </tr>\n",
       "    <tr>\n",
       "      <th>Cocoa Percent</th>\n",
       "      <td>-0.164820</td>\n",
       "      <td>0.038177</td>\n",
       "      <td>1.000000</td>\n",
       "    </tr>\n",
       "  </tbody>\n",
       "</table>\n",
       "</div>"
      ],
      "text/plain": [
       "                 Rating  Review Year  Cocoa Percent\n",
       "Rating         1.000000     0.099846      -0.164820\n",
       "Review Year    0.099846     1.000000       0.038177\n",
       "Cocoa Percent -0.164820     0.038177       1.000000"
      ]
     },
     "execution_count": 117,
     "metadata": {},
     "output_type": "execute_result"
    }
   ],
   "source": [
    "corr = df[['Rating', 'Review Year', 'Cocoa Percent', 'Company Name']].corr()\n",
    "corr"
   ]
  },
  {
   "cell_type": "code",
   "execution_count": 118,
   "id": "28b848a1",
   "metadata": {},
   "outputs": [
    {
     "data": {
      "image/png": "[encoded data removed]",
      "text/plain": [
       "<Figure size 432x288 with 2 Axes>"
      ]
     },
     "metadata": {
      "needs_background": "light"
     },
     "output_type": "display_data"
    }
   ],
   "source": [
    "# creating a heatmap to show relationship netween Rating, Review Year and Cocoa Percent\n",
    "\n",
    "sb.heatmap(corr, annot=True)\n",
    "plt.title('Heatmap of Rating, Review Year and Cocoa Percent')\n",
    "\n",
    "plt.show()"
   ]
  },
  {
   "cell_type": "code",
   "execution_count": 182,
   "id": "af65a7fc",
   "metadata": {},
   "outputs": [
    {
     "data": {
      "image/png": "[encoded data removed]",
      "text/plain": [
       "<Figure size 432x288 with 1 Axes>"
      ]
     },
     "metadata": {
      "needs_background": "light"
     },
     "output_type": "display_data"
    }
   ],
   "source": [
    "#Scatter Plot to show the relationship between Cocoa percent and rating\n",
    "plt.scatter(df['Cocoa Percent'], df['Rating'])\n",
    "\n",
    "plt.title('Percentage of cocoa and Rating')\n",
    "\n",
    "plt.ylabel('Rating')\n",
    "plt.xlabel('Cocoa Percent')\n",
    "\n",
    "\n",
    "plt.show()"
   ]
  },
  {
   "cell_type": "code",
   "execution_count": 11,
   "id": "b97d5dbd",
   "metadata": {},
   "outputs": [
    {
     "data": {
      "text/plain": [
       "Text(0.5, 1.0, 'How Percentage of cocoa in Chocolates Changed over time')"
      ]
     },
     "execution_count": 11,
     "metadata": {},
     "output_type": "execute_result"
    },
    {
     "data": {
      "image/png": "[encoded data removed]",
      "text/plain": [
       "<Figure size 576x432 with 1 Axes>"
      ]
     },
     "metadata": {
      "needs_background": "light"
     },
     "output_type": "display_data"
    }
   ],
   "source": [
    "# how percentage of cocoa in chocolates changed over time\n",
    "\n",
    "plt.figure(figsize=(8,6))\n",
    "sb.lineplot(data=df, x='Review Year', y='Cocoa Percent')\n",
    "plt.title('How Percentage of cocoa in Chocolates Changed over time')"
   ]
  },
  {
   "cell_type": "code",
   "execution_count": null,
   "id": "56c4dc88",
   "metadata": {},
   "outputs": [],
   "source": []
  }
 ],
 "metadata": {
  "kernelspec": {
   "display_name": "Python 3 (ipykernel)",
   "language": "python",
   "name": "python3"
  },
  "language_info": {
   "codemirror_mode": {
    "name": "ipython",
    "version": 3
   },
   "file_extension": ".py",
   "mimetype": "text/x-python",
   "name": "python",
   "nbconvert_exporter": "python",
   "pygments_lexer": "ipython3",
   "version": "3.9.7"
  }
 },
 "nbformat": 4,
 "nbformat_minor": 5
}
